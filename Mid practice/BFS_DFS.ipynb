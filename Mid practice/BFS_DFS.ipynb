{
  "cells": [
    {
      "cell_type": "code",
      "execution_count": 6,
      "metadata": {
        "colab": {
          "base_uri": "https://localhost:8080/"
        },
        "id": "E10hfLfgmggz",
        "outputId": "e3181c21-6461-4202-aaee-36ec97a9c90b"
      },
      "outputs": [
        {
          "output_type": "stream",
          "name": "stdout",
          "text": [
            "Following is the Breadth-First Search\n",
            "3\n",
            "7\n",
            "2\n",
            "4\n",
            "8\n",
            "8\n"
          ]
        }
      ],
      "source": [
        "graph = {\n",
        "  '5' : ['3','7'],\n",
        "  '3' : ['2', '4'],\n",
        "  '7' : ['8'],\n",
        "  '2' : [],\n",
        "  '4' : ['8'],\n",
        "  '8' : []\n",
        "}\n",
        "\n",
        "visited = [] # List for visited nodes.\n",
        "queue = []     #Initialize a queue\n",
        "\n",
        "def bfs(visited, graph, node): #function for BFS\n",
        "  visited.append(node)\n",
        "  queue.append(node)\n",
        "\n",
        "  while queue:          # Creating loop to visit each node\n",
        "    m = queue.pop(0)\n",
        "    # print (m, end = \" \")\n",
        "\n",
        "    for neighbour in graph[m]:\n",
        "      if neighbour not in visited:\n",
        "        visited.append(neighbour)\n",
        "        queue.append(neighbour)\n",
        "\n",
        "# Driver Code\n",
        "print(\"Following is the Breadth-First Search\")\n",
        "bfs(visited, graph, '5')    # function calling"
      ]
    },
    {
      "cell_type": "code",
      "source": [
        "graph = {\n",
        "  '5' : ['3','7'],\n",
        "  '3' : ['2', '4'],\n",
        "  '7' : ['8'],\n",
        "  '2' : [],\n",
        "  '4' : [],\n",
        "  '8' : []\n",
        "}\n",
        "\n",
        "visited = set() # Set to keep track of visited nodes of graph.\n",
        "\n",
        "def dfs(visited, graph, node):  #function for dfs\n",
        "    if node not in visited:\n",
        "        print (node)\n",
        "        visited.add(node)\n",
        "        for neighbour in graph[node]:\n",
        "            dfs(visited, graph, neighbour)\n",
        "\n",
        "# Driver Code\n",
        "print(\"Following is the Depth-First Search\")\n",
        "dfs(visited, graph, '5')"
      ],
      "metadata": {
        "colab": {
          "base_uri": "https://localhost:8080/"
        },
        "id": "nlEfXeo4oFRQ",
        "outputId": "c14f4b66-5ed4-433c-fd9a-54c5f0411d59"
      },
      "execution_count": 8,
      "outputs": [
        {
          "output_type": "stream",
          "name": "stdout",
          "text": [
            "Following is the Depth-First Search\n",
            "5\n",
            "3\n",
            "2\n",
            "4\n",
            "7\n",
            "8\n"
          ]
        }
      ]
    },
    {
      "cell_type": "code",
      "source": [
        "class Stack:\n",
        "    \"\"\"(LIFO) queuing policy implemented using python list.\"\"\"\n",
        "\n",
        "    def __init__(self):\n",
        "        self.list = []\n",
        "\n",
        "    def push(self, item):\n",
        "        \"\"\"Push 'item' onto the stack.\"\"\"\n",
        "        self.list.append(item)\n",
        "\n",
        "    def pop(self):\n",
        "        \"\"\"Pop the most recently pushed item from the stack.\"\"\"\n",
        "        return self.list.pop()\n",
        "\n",
        "    def top(self):\n",
        "        \"\"\"Return the last element.\"\"\"\n",
        "        return self.list[-1]\n",
        "\n",
        "    def is_empty(self):\n",
        "        \"\"\"Returns true if the stack is empty.\"\"\"\n",
        "        return len(self.list) == 0\n",
        "\n",
        "\n",
        "def depth_first_search(graph, start):\n",
        "    stack = Stack()\n",
        "    stack.push(start)\n",
        "    path = []\n",
        "\n",
        "    while not stack.is_empty():\n",
        "        vertex = stack.pop()\n",
        "        if vertex in path:\n",
        "            continue\n",
        "        path.append(vertex)\n",
        "        for neighbor in graph[vertex]:\n",
        "            stack.push(neighbor)\n",
        "\n",
        "    return path\n",
        "\n",
        "\n",
        "def main():\n",
        "    adjacency_matrix = {\n",
        "        1: [2, 3],\n",
        "        2: [4, 5],\n",
        "        3: [5],\n",
        "        4: [6],\n",
        "        5: [6],\n",
        "        6: [7],\n",
        "        7: []\n",
        "    }\n",
        "    dfs_path = depth_first_search(adjacency_matrix, 1)\n",
        "    print(dfs_path)\n",
        "\n",
        "\n",
        "if __name__ == '__main__':\n",
        "    main()"
      ],
      "metadata": {
        "colab": {
          "base_uri": "https://localhost:8080/"
        },
        "id": "_hMop6pnpfoM",
        "outputId": "f6a384bc-fe48-4f5d-9da1-f03e9ae5b82a"
      },
      "execution_count": 10,
      "outputs": [
        {
          "output_type": "stream",
          "name": "stdout",
          "text": [
            "[1, 2, 5, 6, 7, 4, 3]\n"
          ]
        }
      ]
    }
  ],
  "metadata": {
    "colab": {
      "provenance": []
    },
    "kernelspec": {
      "display_name": "Python 3",
      "name": "python3"
    },
    "language_info": {
      "name": "python"
    }
  },
  "nbformat": 4,
  "nbformat_minor": 0
}