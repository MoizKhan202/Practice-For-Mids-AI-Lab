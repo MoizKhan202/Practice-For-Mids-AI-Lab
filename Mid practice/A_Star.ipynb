{
  "nbformat": 4,
  "nbformat_minor": 0,
  "metadata": {
    "colab": {
      "provenance": []
    },
    "kernelspec": {
      "name": "python3",
      "display_name": "Python 3"
    },
    "language_info": {
      "name": "python"
    }
  },
  "cells": [
    {
      "cell_type": "code",
      "execution_count": 18,
      "metadata": {
        "colab": {
          "base_uri": "https://localhost:8080/"
        },
        "id": "VtNpj0pnB-g0",
        "outputId": "0e6e08c0-a54c-43a9-e9ec-9ba8b376504a"
      },
      "outputs": [
        {
          "output_type": "stream",
          "name": "stdout",
          "text": [
            "['A', 'F', 'G', 'I', 'J', 'Total Cost: 10']\n"
          ]
        }
      ],
      "source": [
        "MyGraph = {\n",
        "    'A' : {'B':6,'F':3},\n",
        "    'B' : {'A':6,'C':3,'D':2},\n",
        "    'C' : {'B':3,'D':1,'E':5},\n",
        "    'D' : {'B':2,'C':1,'E':8},\n",
        "    'E' : {'C':5,'D':8,'I':5,'J':5},\n",
        "    'F' : {'A':3,'G':1,'H':7},\n",
        "    'G' : {'F':1,'I':3},\n",
        "    'H' : {'F':7,'I':2},\n",
        "    'I' : {'E':5,'G':3,'H':2,'J':3},\n",
        "    'J' : {'E':5,'I':3}\n",
        "}\n",
        "HeuristicValues = {\n",
        "    'A':10,\n",
        "    'B':8,\n",
        "    'C':5,\n",
        "    'D':7,\n",
        "    'E':3,\n",
        "    'F':6,\n",
        "    'G':5,\n",
        "    'H':3,\n",
        "    'I':1,\n",
        "    'J':0\n",
        "}\n",
        "StartNode='A'\n",
        "GoalNode='J'\n",
        "def Astar():\n",
        "    Path=[StartNode]\n",
        "    Cost=0\n",
        "    Queue, Visited = [Cost,StartNode],[]\n",
        "    while Queue:\n",
        "        minFIndex=0\n",
        "        i=0;\n",
        "        while i<len(Queue):\n",
        "            if Queue[minFIndex]+HeuristicValues[Queue[minFIndex+1][len(Queue[minFIndex+1])-1]] > Queue[i]+HeuristicValues[Queue[i+1][len(Queue[i+1])-1]]:\n",
        "                minFIndex=i\n",
        "            i=i+2\n",
        "        Cost=Queue.pop(minFIndex)\n",
        "        Path=Queue.pop(minFIndex)\n",
        "        Last=Path[len(Path)-1]\n",
        "        if Last==GoalNode:\n",
        "            Path.append(\"Total Cost: \"+str(Cost))\n",
        "            return Path\n",
        "        if Last not in Visited:\n",
        "            Visited.append(Last)\n",
        "            for i in MyGraph[Last].keys():\n",
        "                NewPath=list(Path)\n",
        "                NewPath.append(i)\n",
        "                Queue.append(Cost+MyGraph[Last][i])\n",
        "                Queue.append(NewPath)\n",
        "print(Astar())"
      ]
    }
  ]
}