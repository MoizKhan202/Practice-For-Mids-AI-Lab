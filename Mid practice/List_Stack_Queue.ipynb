{
  "nbformat": 4,
  "nbformat_minor": 0,
  "metadata": {
    "colab": {
      "provenance": []
    },
    "kernelspec": {
      "name": "python3",
      "display_name": "Python 3"
    },
    "language_info": {
      "name": "python"
    }
  },
  "cells": [
    {
      "cell_type": "code",
      "execution_count": 18,
      "metadata": {
        "colab": {
          "base_uri": "https://localhost:8080/"
        },
        "id": "mfWCP5VqMFy8",
        "outputId": "aa0ec3d3-60b6-4e73-c615-182fdad5429e"
      },
      "outputs": [
        {
          "output_type": "stream",
          "name": "stdout",
          "text": [
            "[2, 4, 6, 11, 77, 88, 99]\n",
            "[2, 4, 6, 11, 77, 88, 99, 100]\n",
            "[4, 6, 11, 77, 88, 99, 100]\n",
            "[4, 6, 11, 77, 88, 99]\n",
            "[99, 88, 77, 11, 6, 4]\n",
            "[4, 6, 11, 77, 88, 99]\n"
          ]
        }
      ],
      "source": [
        "# List/Stack Operations\n",
        "\n",
        "mylist = [2,4,6,11,77,88,99]\n",
        "print(mylist)\n",
        "\n",
        "mylist.append(100),\n",
        "print(mylist)\n",
        "\n",
        "mylist.remove(2),\n",
        "print(mylist)\n",
        "\n",
        "mylist.pop(),\n",
        "print(mylist)\n",
        "\n",
        "mylist.count(11)\n",
        "mylist.index(88)\n",
        "\n",
        "mylist.reverse(),\n",
        "print(mylist)\n",
        "\n",
        "\n",
        "mylist.sort()\n",
        "print(mylist)"
      ]
    },
    {
      "cell_type": "code",
      "source": [
        "# Implementation of Queue\n",
        "\n",
        "from collections import deque\n",
        "\n",
        "myqueue = deque([\"Ali\", 3.99, \"UCP Lahore\", \"BSCS\", \"Islamabad\"])\n",
        "myqueue.append(\"Male\")\n",
        "myqueue.append(\"Cricket Lover\")\n",
        "print(myqueue)\n",
        "\n",
        "\n",
        "print(myqueue.popleft())\n",
        "print(myqueue)"
      ],
      "metadata": {
        "colab": {
          "base_uri": "https://localhost:8080/"
        },
        "id": "xEmQtOvoQ5ms",
        "outputId": "2605a396-b4a4-49d4-abd3-665d5d51955a"
      },
      "execution_count": 21,
      "outputs": [
        {
          "output_type": "stream",
          "name": "stdout",
          "text": [
            "deque(['Ali', 3.99, 'UCP Lahore', 'BSCS', 'Islamabad', 'Male', 'Cricket Lover'])\n",
            "Ali\n",
            "deque([3.99, 'UCP Lahore', 'BSCS', 'Islamabad', 'Male', 'Cricket Lover'])\n"
          ]
        }
      ]
    },
    {
      "cell_type": "code",
      "source": [
        "arr = [\n",
        "    [1,2,3,4],\n",
        "    [6,9,8,7],\n",
        "    [22,55,66,88],\n",
        "    [99,66,44,22]\n",
        "]\n",
        "\n",
        "print(arr[0][1])\n",
        "arr[2][3]=100\n",
        "\n",
        "print(arr)"
      ],
      "metadata": {
        "colab": {
          "base_uri": "https://localhost:8080/"
        },
        "id": "jY-p0FSZSJ3o",
        "outputId": "89af9268-2d29-4978-ccb9-3de7e6e0a6ad"
      },
      "execution_count": 24,
      "outputs": [
        {
          "output_type": "stream",
          "name": "stdout",
          "text": [
            "2\n",
            "[[1, 2, 3, 4], [6, 9, 8, 7], [22, 55, 66, 100], [99, 66, 44, 22]]\n"
          ]
        }
      ]
    }
  ]
}